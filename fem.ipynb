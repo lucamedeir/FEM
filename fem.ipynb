{
 "cells": [
  {
   "cell_type": "code",
   "execution_count": 148,
   "id": "93ad215f",
   "metadata": {},
   "outputs": [],
   "source": [
    "import numpy as np\n",
    "import matplotlib.pyplot as plt\n",
    "from scipy.linalg import solve\n",
    "from scipy.special import roots_legendre "
   ]
  },
  {
   "cell_type": "markdown",
   "id": "9dcf98ca",
   "metadata": {},
   "source": [
    "Problema:\n",
    "\n",
    "$$-\\alpha u'' + \\beta u' + \\gamma u = f$$\n",
    "\n",
    "$$u(0) = u_i$$\n",
    "$$u(1) = u_f$$"
   ]
  },
  {
   "cell_type": "markdown",
   "id": "bfbf88c0",
   "metadata": {},
   "source": [
    "Discretização de u:\n",
    "\n",
    "$$u=\\sum_k^n a_k \\phi_k + u_i\\phi_i + u_f \\phi_f$$\n",
    "\n",
    "em que $\\phi_k(0)=\\phi_k(1)=0$, $\\phi_i(0)=1$ e $\\phi_f(1)=1$.\n",
    "\n",
    "A função teste v:\n",
    "\n",
    "$$v=\\sum_k^n b_k \\phi_k$$"
   ]
  },
  {
   "cell_type": "markdown",
   "id": "3054ff1f",
   "metadata": {},
   "source": [
    "A forma fraca do problema é\n",
    "\n",
    "$$\\alpha\\int u' v' dx + \\beta \\int u' v dx + \\gamma \\int u v dx = \\int f v\\, dx$$\n",
    "\n",
    "em que o termo de contorno é nulo pois $v(0)=v(1)=0$."
   ]
  },
  {
   "cell_type": "markdown",
   "id": "9caf8374",
   "metadata": {},
   "source": [
    "O método de galerkin nos fornece o problema\n",
    "\n",
    "$$\\sum_t K_{tl}a_t = F_l$$\n",
    "\n",
    "em que \n",
    "\n",
    "$$K_{tl} = \\alpha \\int \\phi_t' \\phi_l'dx + \\beta \\int \\phi_t' \\phi_l\\,dx + \\gamma \\int \\phi_t \\phi_l\\,dx$$\n",
    "\n",
    "e\n",
    "\n",
    "$$F_l = \\int f \\phi_l\\,dx - \\alpha \\left[ \\int \\left( u_i\\phi_i' + u_f\\phi_f'\\right) \\phi_l'dx\\right]- \\beta \\left[ \\int \\left( u_i\\phi_i' + u_f\\phi_f'\\right) \\phi_l\\,dx\\right]- \\gamma \\left[ \\int \\left( u_i\\phi_i + u_f\\phi_f\\right) \\phi_l\\,dx\\right]$$"
   ]
  },
  {
   "cell_type": "markdown",
   "id": "2332eed7",
   "metadata": {},
   "source": [
    "Os termos a mais no vetor de carga só contribuem para os elementos extremos."
   ]
  },
  {
   "cell_type": "markdown",
   "id": "8f83be24",
   "metadata": {},
   "source": [
    "Quadratura Gaussiana.\n",
    "\n",
    "A fim de incluir os casos em que os $\\alpha$, $\\beta$ e $\\gamma$ não são coeficientes constantes, mas sim funções, logo entram na integram da formulação fraca, vou mostrar como mapear e fazer a integração gaussiana."
   ]
  },
  {
   "cell_type": "markdown",
   "id": "f238e6f9",
   "metadata": {},
   "source": [
    "para mapear a variável x entre os pontos a e b, para uma variável $\\xi$  enter os pontos -1 e 1. Basta notar que o mapeamento deve preservar a proporção entre os pontos, ou seja,\n",
    "\n",
    "$$\\frac{x-a}{b-a}=\\frac{\\xi-(-1)}{1-(-1)}.$$\n",
    "\n",
    "Portanto,\n",
    "\n",
    "$$x(\\xi)=\\frac{h_e}{2}(\\xi+1)+a.$$\n",
    "\n",
    "Note que $\\frac{dx}{d\\xi}=\\frac{h_e}{2}$ e $\\frac{d\\xi}{dx}=\\frac{2}{h_e}$.\n",
    "\n",
    "A integral de uma função f(x) é, portanto, dada por\n",
    "\n",
    "$$\\int_a^b f(x)\\,dx= \\int_{-1}^{1}f(\\xi)\\,\\frac{dx}{d\\xi}d\\xi \\approx \\frac{h_e}{2} \\sum_i f(\\xi_i)w_i.$$\n",
    "\n",
    "Vamos usar a quadratura gaussiana para calcular os termos da matriz de rigidez e vetor de carga dos elementos. Note que para o caso em que temos a integral das derivada, o termo do jacobino inverte, pois\n",
    "\n",
    "$$\\int_a^b \\phi_i'(x) \\phi_j'(x)\\,dx=\\int_a^b \\frac{d\\phi_i(x)}{dx} \\frac{d\\phi_j(x)}{dx}\\,dx= \\frac{h_e}{2}\\int_{-1}^1 \\frac{d\\phi_i(\\xi)}{d\\xi} \\frac{d\\phi_j(\\xi)}{d\\xi}\\,\\left(\\frac{d\\xi}{dx}\\right)^2d\\xi=\\frac{2}{h_e}\\int_{-1}^1 \\frac{d\\phi_i(\\xi)}{d\\xi} \\frac{d\\phi_j(\\xi)}{d\\xi}\\,d\\xi$$"
   ]
  },
  {
   "cell_type": "markdown",
   "id": "cc9b4d5c",
   "metadata": {},
   "source": [
    "Vamos calcular os termos das matrizes para um único elemento."
   ]
  },
  {
   "cell_type": "markdown",
   "id": "ae541759",
   "metadata": {},
   "source": [
    "Caso Linear"
   ]
  },
  {
   "cell_type": "code",
   "execution_count": 1,
   "id": "94b941c8",
   "metadata": {},
   "outputs": [],
   "source": [
    "import sympy as sym"
   ]
  },
  {
   "cell_type": "code",
   "execution_count": 2,
   "id": "955be0fb",
   "metadata": {},
   "outputs": [],
   "source": [
    "x,h,a,b,c,alfa,beta,gamma,fa,fb,ui,uf,u = sym.symbols('x,h,a,b,c,α,β,γ,f(a),f(b),u_i,u_f,u')"
   ]
  },
  {
   "cell_type": "code",
   "execution_count": 3,
   "id": "4ae6fbc2",
   "metadata": {},
   "outputs": [],
   "source": [
    "f_1 = (b-x)/h\n",
    "f_2 = (x-a)/h"
   ]
  },
  {
   "cell_type": "code",
   "execution_count": 4,
   "id": "2e5bc3a1",
   "metadata": {},
   "outputs": [],
   "source": [
    "df_1 = sym.diff(f_1,x)\n",
    "df_2 = sym.diff(f_2,x)"
   ]
  },
  {
   "cell_type": "code",
   "execution_count": 5,
   "id": "a0762ec5",
   "metadata": {},
   "outputs": [
    {
     "data": {
      "text/latex": [
       "$\\displaystyle \\left[\\begin{matrix}\\frac{h}{3} & \\frac{h}{6}\\\\\\frac{h}{6} & \\frac{h}{3}\\end{matrix}\\right]$"
      ],
      "text/plain": [
       "Matrix([\n",
       "[h/3, h/6],\n",
       "[h/6, h/3]])"
      ]
     },
     "execution_count": 5,
     "metadata": {},
     "output_type": "execute_result"
    }
   ],
   "source": [
    "c11=sym.integrate(f_1*f_1,(x,a,b)).subs(b,h+a).simplify()\n",
    "c12=sym.integrate(f_1*f_2,(x,a,b)).subs(b,h+a).simplify()\n",
    "c21=sym.integrate(f_2*f_1,(x,a,b)).subs(b,h+a).simplify()\n",
    "c22=sym.integrate(f_2*f_2,(x,a,b)).subs(b,h+a).simplify()\n",
    "C=sym.Matrix([[c11,c12],[c21,c22]]);C"
   ]
  },
  {
   "cell_type": "code",
   "execution_count": 6,
   "id": "5af5cd19",
   "metadata": {},
   "outputs": [
    {
     "data": {
      "text/latex": [
       "$\\displaystyle \\left[\\begin{matrix}2 & 1\\\\1 & 2\\end{matrix}\\right]$"
      ],
      "text/plain": [
       "Matrix([\n",
       "[2, 1],\n",
       "[1, 2]])"
      ]
     },
     "execution_count": 6,
     "metadata": {},
     "output_type": "execute_result"
    }
   ],
   "source": [
    "C*6/h"
   ]
  },
  {
   "cell_type": "code",
   "execution_count": 7,
   "id": "4a36da66",
   "metadata": {},
   "outputs": [
    {
     "data": {
      "text/latex": [
       "$\\displaystyle \\left[\\begin{matrix}\\frac{1}{h} & - \\frac{1}{h}\\\\- \\frac{1}{h} & \\frac{1}{h}\\end{matrix}\\right]$"
      ],
      "text/plain": [
       "Matrix([\n",
       "[ 1/h, -1/h],\n",
       "[-1/h,  1/h]])"
      ]
     },
     "execution_count": 7,
     "metadata": {},
     "output_type": "execute_result"
    }
   ],
   "source": [
    "a11=sym.integrate(df_1*df_1,(x,a,b)).subs(b,h+a).simplify()\n",
    "a12=sym.integrate(df_1*df_2,(x,a,b)).subs(b,h+a).simplify()\n",
    "a21=sym.integrate(df_2*df_1,(x,a,b)).subs(b,h+a).simplify()\n",
    "a22=sym.integrate(df_2*df_2,(x,a,b)).subs(b,h+a).simplify()\n",
    "A=sym.Matrix([[a11,a12],[a21,a22]]);A"
   ]
  },
  {
   "cell_type": "code",
   "execution_count": 8,
   "id": "6a73a990",
   "metadata": {},
   "outputs": [
    {
     "data": {
      "text/latex": [
       "$\\displaystyle \\left[\\begin{matrix}1 & -1\\\\-1 & 1\\end{matrix}\\right]$"
      ],
      "text/plain": [
       "Matrix([\n",
       "[ 1, -1],\n",
       "[-1,  1]])"
      ]
     },
     "execution_count": 8,
     "metadata": {},
     "output_type": "execute_result"
    }
   ],
   "source": [
    "A*h"
   ]
  },
  {
   "cell_type": "code",
   "execution_count": 9,
   "id": "b0fc6324",
   "metadata": {},
   "outputs": [
    {
     "data": {
      "text/latex": [
       "$\\displaystyle \\left[\\begin{matrix}- \\frac{1}{2} & \\frac{1}{2}\\\\- \\frac{1}{2} & \\frac{1}{2}\\end{matrix}\\right]$"
      ],
      "text/plain": [
       "Matrix([\n",
       "[-1/2, 1/2],\n",
       "[-1/2, 1/2]])"
      ]
     },
     "execution_count": 9,
     "metadata": {},
     "output_type": "execute_result"
    }
   ],
   "source": [
    "b11=sym.integrate(df_1*f_1,(x,a,b)).subs(b,h+a).simplify()\n",
    "b12=sym.integrate(df_1*f_2,(x,a,b)).subs(b,h+a).simplify()\n",
    "b21=sym.integrate(df_2*f_1,(x,a,b)).subs(b,h+a).simplify()\n",
    "b22=sym.integrate(df_2*f_2,(x,a,b)).subs(b,h+a).simplify()\n",
    "B=sym.Matrix([[b11,b12],[b21,b22]]);B.T"
   ]
  },
  {
   "cell_type": "code",
   "execution_count": 10,
   "id": "b0f90b43",
   "metadata": {},
   "outputs": [
    {
     "data": {
      "text/latex": [
       "$\\displaystyle \\left[\\begin{matrix}-1 & -1\\\\1 & 1\\end{matrix}\\right]$"
      ],
      "text/plain": [
       "Matrix([\n",
       "[-1, -1],\n",
       "[ 1,  1]])"
      ]
     },
     "execution_count": 10,
     "metadata": {},
     "output_type": "execute_result"
    }
   ],
   "source": [
    "B*2"
   ]
  },
  {
   "cell_type": "code",
   "execution_count": 11,
   "id": "f498a10f",
   "metadata": {},
   "outputs": [
    {
     "data": {
      "text/latex": [
       "$\\displaystyle \\left[\\begin{matrix}\\frac{h γ}{3} - \\frac{β}{2} + \\frac{α}{h} & \\frac{h γ}{6} - \\frac{β}{2} - \\frac{α}{h}\\\\\\frac{h γ}{6} + \\frac{β}{2} - \\frac{α}{h} & \\frac{h γ}{3} + \\frac{β}{2} + \\frac{α}{h}\\end{matrix}\\right]$"
      ],
      "text/plain": [
       "Matrix([\n",
       "[h*γ/3 - β/2 + α/h, h*γ/6 - β/2 - α/h],\n",
       "[h*γ/6 + β/2 - α/h, h*γ/3 + β/2 + α/h]])"
      ]
     },
     "execution_count": 11,
     "metadata": {},
     "output_type": "execute_result"
    }
   ],
   "source": [
    "Kel=alfa*A+beta*B+gamma*C;Kel"
   ]
  },
  {
   "cell_type": "code",
   "execution_count": 12,
   "id": "a5f8323f",
   "metadata": {},
   "outputs": [
    {
     "data": {
      "text/latex": [
       "$\\displaystyle \\left[\\begin{matrix}\\frac{f(a) h}{3} + \\frac{f(b) h}{6}\\\\\\frac{f(a) h}{6} + \\frac{f(b) h}{3}\\end{matrix}\\right]$"
      ],
      "text/plain": [
       "Matrix([\n",
       "[f(a)*h/3 + f(b)*h/6],\n",
       "[f(a)*h/6 + f(b)*h/3]])"
      ]
     },
     "execution_count": 12,
     "metadata": {},
     "output_type": "execute_result"
    }
   ],
   "source": [
    "Fel = C*sym.Matrix([fa,fb]);Fel"
   ]
  },
  {
   "cell_type": "markdown",
   "id": "34758c98",
   "metadata": {},
   "source": [
    "Para os elementos extremos, temos os seguintes termos a mais para o vetor de carga"
   ]
  },
  {
   "cell_type": "code",
   "execution_count": 13,
   "id": "bf381b63",
   "metadata": {},
   "outputs": [
    {
     "data": {
      "text/latex": [
       "$\\displaystyle - u_{i} \\left(\\frac{h γ}{6} - \\frac{β}{2} - \\frac{α}{h}\\right)$"
      ],
      "text/plain": [
       "-u_i*(h*γ/6 - β/2 - α/h)"
      ]
     },
     "execution_count": 13,
     "metadata": {},
     "output_type": "execute_result"
    }
   ],
   "source": [
    "-ui*Kel[0,1]"
   ]
  },
  {
   "cell_type": "code",
   "execution_count": 14,
   "id": "75b290d6",
   "metadata": {},
   "outputs": [
    {
     "data": {
      "text/latex": [
       "$\\displaystyle - u_{f} \\left(\\frac{h γ}{6} + \\frac{β}{2} - \\frac{α}{h}\\right)$"
      ],
      "text/plain": [
       "-u_f*(h*γ/6 + β/2 - α/h)"
      ]
     },
     "execution_count": 14,
     "metadata": {},
     "output_type": "execute_result"
    }
   ],
   "source": [
    "-uf*Kel[1,0]"
   ]
  },
  {
   "cell_type": "markdown",
   "id": "6ae277a7",
   "metadata": {},
   "source": [
    "Caso Quadrático"
   ]
  },
  {
   "cell_type": "code",
   "execution_count": 15,
   "id": "fe94da45",
   "metadata": {},
   "outputs": [],
   "source": [
    "def q_A(A,B,C):\n",
    "    return 1/((A - B) *(A - C)), (-B - C)/((A - B) *(A - C)), (B *C)/((A - B)* (A - C))\n",
    "def q_B(A,B,C):\n",
    "    return -(1/((A - B)* (B - C))), (A + C)/((A - B) *(B - C)), -((A* C)/((A - B) *(B - C)))\n",
    "def q_C(A,B,C):\n",
    "    return -(1/((A - C) *(-B + C))), -((-A - B)/((A - C)* (-B + C))), -((A* B)/((A - C) *(-B + C)))"
   ]
  },
  {
   "cell_type": "code",
   "execution_count": 16,
   "id": "31557b61",
   "metadata": {},
   "outputs": [],
   "source": [
    "c1,c2,c3=q_A(a,b,c)\n",
    "qA = c1*x**2+c2*x+c3\n",
    "c1,c2,c3=q_B(a,b,c)\n",
    "qB = c1*x**2+c2*x+c3\n",
    "c1,c2,c3=q_C(a,b,c)\n",
    "qC = c1*x**2+c2*x+c3"
   ]
  },
  {
   "cell_type": "code",
   "execution_count": 17,
   "id": "b89585c4",
   "metadata": {},
   "outputs": [],
   "source": [
    "dqA = sym.diff(qA,x)\n",
    "dqB = sym.diff(qB,x)\n",
    "dqC = sym.diff(qC,x)"
   ]
  },
  {
   "cell_type": "code",
   "execution_count": 18,
   "id": "b79d69e7",
   "metadata": {},
   "outputs": [
    {
     "data": {
      "text/latex": [
       "$\\displaystyle \\left[\\begin{matrix}\\frac{2 h}{15} & \\frac{h}{15} & - \\frac{h}{30}\\\\\\frac{h}{15} & \\frac{8 h}{15} & \\frac{h}{15}\\\\- \\frac{h}{30} & \\frac{h}{15} & \\frac{2 h}{15}\\end{matrix}\\right]$"
      ],
      "text/plain": [
       "Matrix([\n",
       "[2*h/15,   h/15,  -h/30],\n",
       "[  h/15, 8*h/15,   h/15],\n",
       "[ -h/30,   h/15, 2*h/15]])"
      ]
     },
     "execution_count": 18,
     "metadata": {},
     "output_type": "execute_result"
    }
   ],
   "source": [
    "cAA=sym.integrate(qA*qA,(x,a,c)).subs(b,(a+c)/2).subs(c,h+a).simplify()\n",
    "cAB=sym.integrate(qA*qB,(x,a,c)).subs(b,(a+c)/2).subs(c,h+a).simplify()\n",
    "cAC=sym.integrate(qA*qC,(x,a,c)).subs(b,(a+c)/2).subs(c,h+a).simplify()\n",
    "cBA=sym.integrate(qB*qA,(x,a,c)).subs(b,(a+c)/2).subs(c,h+a).simplify()\n",
    "cBB=sym.integrate(qB*qB,(x,a,c)).subs(b,(a+c)/2).subs(c,h+a).simplify()\n",
    "cBC=sym.integrate(qB*qC,(x,a,c)).subs(b,(a+c)/2).subs(c,h+a).simplify()\n",
    "cCA=sym.integrate(qC*qA,(x,a,c)).subs(b,(a+c)/2).subs(c,h+a).simplify()\n",
    "cCB=sym.integrate(qC*qB,(x,a,c)).subs(b,(a+c)/2).subs(c,h+a).simplify()\n",
    "cCC=sym.integrate(qC*qC,(x,a,c)).subs(b,(a+c)/2).subs(c,h+a).simplify()\n",
    "C=sym.Matrix([[cAA,cAB,cAC],[cBA,cBB,cBC],[cCA,cCB,cCC]]);C"
   ]
  },
  {
   "cell_type": "code",
   "execution_count": 19,
   "id": "a3b8eaf0",
   "metadata": {},
   "outputs": [
    {
     "data": {
      "text/latex": [
       "$\\displaystyle \\left[\\begin{matrix}4 & 2 & -1\\\\2 & 16 & 2\\\\-1 & 2 & 4\\end{matrix}\\right]$"
      ],
      "text/plain": [
       "Matrix([\n",
       "[ 4,  2, -1],\n",
       "[ 2, 16,  2],\n",
       "[-1,  2,  4]])"
      ]
     },
     "execution_count": 19,
     "metadata": {},
     "output_type": "execute_result"
    }
   ],
   "source": [
    "C*30/h"
   ]
  },
  {
   "cell_type": "code",
   "execution_count": 20,
   "id": "81060111",
   "metadata": {},
   "outputs": [
    {
     "data": {
      "text/latex": [
       "$\\displaystyle \\left[\\begin{matrix}\\frac{7}{3 h} & - \\frac{8}{3 h} & \\frac{1}{3 h}\\\\- \\frac{8}{3 h} & \\frac{16}{3 h} & - \\frac{8}{3 h}\\\\\\frac{1}{3 h} & - \\frac{8}{3 h} & \\frac{7}{3 h}\\end{matrix}\\right]$"
      ],
      "text/plain": [
       "Matrix([\n",
       "[ 7/(3*h), -8/(3*h),  1/(3*h)],\n",
       "[-8/(3*h), 16/(3*h), -8/(3*h)],\n",
       "[ 1/(3*h), -8/(3*h),  7/(3*h)]])"
      ]
     },
     "execution_count": 20,
     "metadata": {},
     "output_type": "execute_result"
    }
   ],
   "source": [
    "aAA=sym.integrate(dqA*dqA,(x,a,c)).subs(b,(a+c)/2).subs(c,h+a).simplify()\n",
    "aAB=sym.integrate(dqA*dqB,(x,a,c)).subs(b,(a+c)/2).subs(c,h+a).simplify()\n",
    "aAC=sym.integrate(dqA*dqC,(x,a,c)).subs(b,(a+c)/2).subs(c,h+a).simplify()\n",
    "aBA=sym.integrate(dqB*dqA,(x,a,c)).subs(b,(a+c)/2).subs(c,h+a).simplify()\n",
    "aBB=sym.integrate(dqB*dqB,(x,a,c)).subs(b,(a+c)/2).subs(c,h+a).simplify()\n",
    "aBC=sym.integrate(dqB*dqC,(x,a,c)).subs(b,(a+c)/2).subs(c,h+a).simplify()\n",
    "aCA=sym.integrate(dqC*dqA,(x,a,c)).subs(b,(a+c)/2).subs(c,h+a).simplify()\n",
    "aCB=sym.integrate(dqC*dqB,(x,a,c)).subs(b,(a+c)/2).subs(c,h+a).simplify()\n",
    "aCC=sym.integrate(dqC*dqC,(x,a,c)).subs(b,(a+c)/2).subs(c,h+a).simplify()\n",
    "A=sym.Matrix([[aAA,aAB,aAC],[aBA,aBB,aBC],[aCA,aCB,aCC]]);A"
   ]
  },
  {
   "cell_type": "code",
   "execution_count": 21,
   "id": "581d4fc9",
   "metadata": {},
   "outputs": [
    {
     "data": {
      "text/latex": [
       "$\\displaystyle \\left[\\begin{matrix}7 & -8 & 1\\\\-8 & 16 & -8\\\\1 & -8 & 7\\end{matrix}\\right]$"
      ],
      "text/plain": [
       "Matrix([\n",
       "[ 7, -8,  1],\n",
       "[-8, 16, -8],\n",
       "[ 1, -8,  7]])"
      ]
     },
     "execution_count": 21,
     "metadata": {},
     "output_type": "execute_result"
    }
   ],
   "source": [
    "A*3*h"
   ]
  },
  {
   "cell_type": "code",
   "execution_count": 327,
   "id": "b749db24",
   "metadata": {},
   "outputs": [
    {
     "data": {
      "text/latex": [
       "$\\displaystyle \\left[\\begin{matrix}- \\frac{1}{2} & \\frac{2}{3} & - \\frac{1}{6}\\\\- \\frac{2}{3} & 0 & \\frac{2}{3}\\\\\\frac{1}{6} & - \\frac{2}{3} & \\frac{1}{2}\\end{matrix}\\right]$"
      ],
      "text/plain": [
       "Matrix([\n",
       "[-1/2,  2/3, -1/6],\n",
       "[-2/3,    0,  2/3],\n",
       "[ 1/6, -2/3,  1/2]])"
      ]
     },
     "execution_count": 327,
     "metadata": {},
     "output_type": "execute_result"
    }
   ],
   "source": [
    "bAA=sym.integrate(dqA*qA,(x,a,c)).subs(b,(a+c)/2).subs(c,h+a).simplify()\n",
    "bAB=sym.integrate(dqA*qB,(x,a,c)).subs(b,(a+c)/2).subs(c,h+a).simplify()\n",
    "bAC=sym.integrate(dqA*qC,(x,a,c)).subs(b,(a+c)/2).subs(c,h+a).simplify()\n",
    "bBA=sym.integrate(dqB*qA,(x,a,c)).subs(b,(a+c)/2).subs(c,h+a).simplify()\n",
    "bBB=sym.integrate(dqB*qB,(x,a,c)).subs(b,(a+c)/2).subs(c,h+a).simplify()\n",
    "bBC=sym.integrate(dqB*qC,(x,a,c)).subs(b,(a+c)/2).subs(c,h+a).simplify()\n",
    "bCA=sym.integrate(dqC*qA,(x,a,c)).subs(b,(a+c)/2).subs(c,h+a).simplify()\n",
    "bCB=sym.integrate(dqC*qB,(x,a,c)).subs(b,(a+c)/2).subs(c,h+a).simplify()\n",
    "bCC=sym.integrate(dqC*qC,(x,a,c)).subs(b,(a+c)/2).subs(c,h+a).simplify()\n",
    "B=sym.Matrix([[bAA,bAB,bAC],[bBA,bBB,bBC],[bCA,bCB,bCC]]).T;B"
   ]
  },
  {
   "cell_type": "code",
   "execution_count": 328,
   "id": "efe3d910",
   "metadata": {},
   "outputs": [],
   "source": [
    "Keq=alfa*A+beta*B+gamma*C"
   ]
  },
  {
   "cell_type": "markdown",
   "id": "62e56e5f",
   "metadata": {},
   "source": [
    "Para os elementos extremos, temos os seguintes termos a mais para o vetor de carga"
   ]
  },
  {
   "cell_type": "markdown",
   "id": "65b2c1ec",
   "metadata": {},
   "source": [
    "no ponto 1"
   ]
  },
  {
   "cell_type": "code",
   "execution_count": 29,
   "id": "321689fb",
   "metadata": {},
   "outputs": [
    {
     "data": {
      "text/latex": [
       "$\\displaystyle - u_{i} \\left(\\frac{h γ}{15} + \\frac{2 β}{3} - \\frac{8 α}{3 h}\\right)$"
      ],
      "text/plain": [
       "-u_i*(h*γ/15 + 2*β/3 - 8*α/(3*h))"
      ]
     },
     "execution_count": 29,
     "metadata": {},
     "output_type": "execute_result"
    }
   ],
   "source": [
    "-ui*Keq[0,1]"
   ]
  },
  {
   "cell_type": "markdown",
   "id": "84a1bee5",
   "metadata": {},
   "source": [
    "no ponto 2"
   ]
  },
  {
   "cell_type": "code",
   "execution_count": 30,
   "id": "0c991e8a",
   "metadata": {},
   "outputs": [
    {
     "data": {
      "text/latex": [
       "$\\displaystyle - u_{i} \\left(- \\frac{h γ}{30} - \\frac{β}{6} + \\frac{α}{3 h}\\right)$"
      ],
      "text/plain": [
       "-u_i*(-h*γ/30 - β/6 + α/(3*h))"
      ]
     },
     "execution_count": 30,
     "metadata": {},
     "output_type": "execute_result"
    }
   ],
   "source": [
    "-ui*Keq[0,2]"
   ]
  },
  {
   "cell_type": "markdown",
   "id": "336beac2",
   "metadata": {},
   "source": [
    "ponto -1"
   ]
  },
  {
   "cell_type": "code",
   "execution_count": 31,
   "id": "662f9596",
   "metadata": {},
   "outputs": [
    {
     "data": {
      "text/latex": [
       "$\\displaystyle - u_{f} \\left(\\frac{h γ}{15} - \\frac{2 β}{3} - \\frac{8 α}{3 h}\\right)$"
      ],
      "text/plain": [
       "-u_f*(h*γ/15 - 2*β/3 - 8*α/(3*h))"
      ]
     },
     "execution_count": 31,
     "metadata": {},
     "output_type": "execute_result"
    }
   ],
   "source": [
    "-uf*Keq[1,0]"
   ]
  },
  {
   "cell_type": "markdown",
   "id": "217ead7b",
   "metadata": {},
   "source": [
    "ponto -22"
   ]
  },
  {
   "cell_type": "code",
   "execution_count": 32,
   "id": "a43ae0c6",
   "metadata": {},
   "outputs": [
    {
     "data": {
      "text/latex": [
       "$\\displaystyle - u_{f} \\left(- \\frac{h γ}{30} + \\frac{β}{6} + \\frac{α}{3 h}\\right)$"
      ],
      "text/plain": [
       "-u_f*(-h*γ/30 + β/6 + α/(3*h))"
      ]
     },
     "execution_count": 32,
     "metadata": {},
     "output_type": "execute_result"
    }
   ],
   "source": [
    "-uf*Keq[2,0]"
   ]
  },
  {
   "cell_type": "code",
   "execution_count": 297,
   "id": "fb52cfb8",
   "metadata": {},
   "outputs": [],
   "source": [
    "def quadratic_base(a,b,c):\n",
    "        ac1,ac2,ac3 = q_A(a,b,c)\n",
    "        bc1,bc2,bc3 = q_B(a,b,c)\n",
    "        cc1,cc2,cc3 = q_C(a,b,c)\n",
    "        phi_a = np.vectorize(lambda x: ac1*x**2+ac2*x+ac3)\n",
    "        phi_b = np.vectorize(lambda x: bc1*x**2+bc2*x+bc3)\n",
    "        phi_c = np.vectorize(lambda x: cc1*x**2+cc2*x+cc3)\n",
    "        \n",
    "        return phi_a, phi_b, phi_c\n",
    "    \n",
    "def dquadratic_base(a,b,c):\n",
    "        ac1,ac2,ac3 = q_A(a,b,c)\n",
    "        bc1,bc2,bc3 = q_B(a,b,c)\n",
    "        cc1,cc2,cc3 = q_C(a,b,c)\n",
    "        dphi_a = np.vectorize(lambda x: 2*ac1*x+ac2)\n",
    "        dphi_b = np.vectorize(lambda x: 2*bc1*x+bc2)\n",
    "        dphi_c = np.vectorize(lambda x: 2*cc1*x+cc2)\n",
    "        \n",
    "        return dphi_a, dphi_b, dphi_c\n",
    "    \n",
    "def linear_base(a,b):\n",
    "    h = b-a\n",
    "    \n",
    "    phi_a = np.vectorize(lambda x: (b-x)/h)\n",
    "    phi_b = np.vectorize(lambda x: (x-a)/h)\n",
    "    \n",
    "    return phi_a,phi_b\n",
    "\n",
    "def dlinear_base(a,b):\n",
    "    h = b-a\n",
    "    \n",
    "    dphi_a = np.vectorize(lambda x: -1/h)\n",
    "    dphi_b = np.vectorize(lambda x: 1/h)\n",
    "    \n",
    "    return dphi_a,dphi_b"
   ]
  },
  {
   "cell_type": "code",
   "execution_count": 298,
   "id": "48909d22",
   "metadata": {},
   "outputs": [],
   "source": [
    "phi_a, phi_b = linear_base(-1,1)\n",
    "dphi_a, dphi_b = dlinear_base(-1,1)"
   ]
  },
  {
   "cell_type": "code",
   "execution_count": 266,
   "id": "269f66c1",
   "metadata": {},
   "outputs": [
    {
     "data": {
      "text/latex": [
       "$\\displaystyle \\left[\\begin{matrix}2 & 1\\\\1 & 2\\end{matrix}\\right]$"
      ],
      "text/plain": [
       "Matrix([\n",
       "[2, 1],\n",
       "[1, 2]])"
      ]
     },
     "execution_count": 266,
     "metadata": {},
     "output_type": "execute_result"
    }
   ],
   "source": [
    "C*6/h"
   ]
  },
  {
   "cell_type": "code",
   "execution_count": 294,
   "id": "028c1eeb",
   "metadata": {},
   "outputs": [
    {
     "data": {
      "text/latex": [
       "$\\displaystyle \\left[\\begin{matrix}2.0 & 1.0\\\\1.0 & 2.0\\end{matrix}\\right]$"
      ],
      "text/plain": [
       "Matrix([\n",
       "[2.0, 1.0],\n",
       "[1.0, 2.0]])"
      ]
     },
     "execution_count": 294,
     "metadata": {},
     "output_type": "execute_result"
    }
   ],
   "source": [
    "ncAA = gauss_legendre(np.vectorize(lambda ξ:phi_a(ξ)*phi_a(ξ)),2)\n",
    "ncAB = gauss_legendre(np.vectorize(lambda ξ:phi_a(ξ)*phi_b(ξ)),2)\n",
    "ncBA = gauss_legendre(np.vectorize(lambda ξ:phi_b(ξ)*phi_a(ξ)),2)\n",
    "ncBB = gauss_legendre(np.vectorize(lambda ξ:phi_b(ξ)*phi_b(ξ)),2)\n",
    "sym.Matrix([[ncAA,ncAB],[ncBA,ncBB]])*h/2*(6/h)"
   ]
  },
  {
   "cell_type": "code",
   "execution_count": 278,
   "id": "0f234699",
   "metadata": {},
   "outputs": [
    {
     "data": {
      "text/latex": [
       "$\\displaystyle \\left[\\begin{matrix}\\frac{1}{h} & - \\frac{1}{h}\\\\- \\frac{1}{h} & \\frac{1}{h}\\end{matrix}\\right]$"
      ],
      "text/plain": [
       "Matrix([\n",
       "[ 1/h, -1/h],\n",
       "[-1/h,  1/h]])"
      ]
     },
     "execution_count": 278,
     "metadata": {},
     "output_type": "execute_result"
    }
   ],
   "source": [
    "A"
   ]
  },
  {
   "cell_type": "code",
   "execution_count": 296,
   "id": "e2265c21",
   "metadata": {},
   "outputs": [
    {
     "data": {
      "text/latex": [
       "$\\displaystyle \\left[\\begin{matrix}1.0 & -1.0\\\\-1.0 & 1.0\\end{matrix}\\right]$"
      ],
      "text/plain": [
       "Matrix([\n",
       "[ 1.0, -1.0],\n",
       "[-1.0,  1.0]])"
      ]
     },
     "execution_count": 296,
     "metadata": {},
     "output_type": "execute_result"
    }
   ],
   "source": [
    "naAA = gauss_legendre(np.vectorize(lambda ξ:dphi_a(ξ)*dphi_a(ξ)),2)\n",
    "naAB = gauss_legendre(np.vectorize(lambda ξ:dphi_a(ξ)*dphi_b(ξ)),2)\n",
    "naBA = gauss_legendre(np.vectorize(lambda ξ:dphi_b(ξ)*dphi_a(ξ)),2)\n",
    "naBB = gauss_legendre(np.vectorize(lambda ξ:dphi_b(ξ)*dphi_b(ξ)),2)\n",
    "sym.Matrix([[naAA,naAB],[naBA,naBB]])*2/h*h"
   ]
  },
  {
   "cell_type": "code",
   "execution_count": 274,
   "id": "058ace11",
   "metadata": {},
   "outputs": [
    {
     "data": {
      "text/latex": [
       "$\\displaystyle \\left[\\begin{matrix}- \\frac{1}{2} & - \\frac{1}{2}\\\\\\frac{1}{2} & \\frac{1}{2}\\end{matrix}\\right]$"
      ],
      "text/plain": [
       "Matrix([\n",
       "[-1/2, -1/2],\n",
       "[ 1/2,  1/2]])"
      ]
     },
     "execution_count": 274,
     "metadata": {},
     "output_type": "execute_result"
    }
   ],
   "source": [
    "B"
   ]
  },
  {
   "cell_type": "code",
   "execution_count": 277,
   "id": "18595801",
   "metadata": {},
   "outputs": [
    {
     "data": {
      "text/latex": [
       "$\\displaystyle \\left[\\begin{matrix}-0.5 & -0.5\\\\0.5 & 0.5\\end{matrix}\\right]$"
      ],
      "text/plain": [
       "Matrix([\n",
       "[-0.5, -0.5],\n",
       "[ 0.5,  0.5]])"
      ]
     },
     "execution_count": 277,
     "metadata": {},
     "output_type": "execute_result"
    }
   ],
   "source": [
    "nbAA = gauss_legendre(np.vectorize(lambda x:dphi_a(x)*phi_a(x)),2)\n",
    "nbAB = gauss_legendre(np.vectorize(lambda x:dphi_a(x)*phi_b(x)),2)\n",
    "nbBA = gauss_legendre(np.vectorize(lambda x:dphi_b(x)*phi_a(x)),2)\n",
    "nbBB = gauss_legendre(np.vectorize(lambda x:dphi_b(x)*phi_b(x)),2)\n",
    "sym.Matrix([[nbAA,nbAB],[nbBA,nbBB]])"
   ]
  },
  {
   "cell_type": "code",
   "execution_count": 300,
   "id": "aeeadbf4",
   "metadata": {},
   "outputs": [],
   "source": [
    "phi_a, phi_b, phi_c = quadratic_base(-1,0,1)\n",
    "dphi_a, dphi_b, dphi_c = dquadratic_base(-1,0,1)\n"
   ]
  },
  {
   "cell_type": "code",
   "execution_count": 330,
   "id": "ccfb2771",
   "metadata": {},
   "outputs": [
    {
     "data": {
      "text/latex": [
       "$\\displaystyle \\left[\\begin{matrix}4 & 2 & -1\\\\2 & 16 & 2\\\\-1 & 2 & 4\\end{matrix}\\right]$"
      ],
      "text/plain": [
       "Matrix([\n",
       "[ 4,  2, -1],\n",
       "[ 2, 16,  2],\n",
       "[-1,  2,  4]])"
      ]
     },
     "execution_count": 330,
     "metadata": {},
     "output_type": "execute_result"
    }
   ],
   "source": [
    "C*30/h"
   ]
  },
  {
   "cell_type": "code",
   "execution_count": 332,
   "id": "7e6b92a5",
   "metadata": {},
   "outputs": [
    {
     "data": {
      "text/latex": [
       "$\\displaystyle \\left[\\begin{matrix}4.0 & 2.0 & -1.0\\\\2.0 & 16.0 & 2.0\\\\-1.0 & 2.0 & 4.0\\end{matrix}\\right]$"
      ],
      "text/plain": [
       "Matrix([\n",
       "[ 4.0,  2.0, -1.0],\n",
       "[ 2.0, 16.0,  2.0],\n",
       "[-1.0,  2.0,  4.0]])"
      ]
     },
     "execution_count": 332,
     "metadata": {},
     "output_type": "execute_result"
    }
   ],
   "source": [
    "ncAA = gauss_legendre(np.vectorize(lambda ξ:phi_a(ξ)*phi_a(ξ)),4)\n",
    "ncAB = gauss_legendre(np.vectorize(lambda ξ:phi_a(ξ)*phi_b(ξ)),4)\n",
    "ncAC = gauss_legendre(np.vectorize(lambda ξ:phi_a(ξ)*phi_c(ξ)),4)\n",
    "\n",
    "ncBA = gauss_legendre(np.vectorize(lambda ξ:phi_b(ξ)*phi_a(ξ)),4)\n",
    "ncBB = gauss_legendre(np.vectorize(lambda ξ:phi_b(ξ)*phi_b(ξ)),4)\n",
    "ncBC = gauss_legendre(np.vectorize(lambda ξ:phi_b(ξ)*phi_c(ξ)),4)\n",
    "\n",
    "ncCA = gauss_legendre(np.vectorize(lambda ξ:phi_c(ξ)*phi_a(ξ)),4)\n",
    "ncCB = gauss_legendre(np.vectorize(lambda ξ:phi_c(ξ)*phi_b(ξ)),4)\n",
    "ncCC = gauss_legendre(np.vectorize(lambda ξ:phi_c(ξ)*phi_c(ξ)),4)\n",
    "\n",
    "sym.Matrix([[ncAA,ncAB,ncAC],[ncBA,ncBB,ncBC],[ncCA,ncCB,ncCC]])*h/2*(30/h)"
   ]
  },
  {
   "cell_type": "code",
   "execution_count": 334,
   "id": "3b4a69b2",
   "metadata": {},
   "outputs": [
    {
     "data": {
      "text/latex": [
       "$\\displaystyle \\left[\\begin{matrix}7 & -8 & 1\\\\-8 & 16 & -8\\\\1 & -8 & 7\\end{matrix}\\right]$"
      ],
      "text/plain": [
       "Matrix([\n",
       "[ 7, -8,  1],\n",
       "[-8, 16, -8],\n",
       "[ 1, -8,  7]])"
      ]
     },
     "execution_count": 334,
     "metadata": {},
     "output_type": "execute_result"
    }
   ],
   "source": [
    "A*3*h"
   ]
  },
  {
   "cell_type": "code",
   "execution_count": 336,
   "id": "0ff42737",
   "metadata": {},
   "outputs": [
    {
     "data": {
      "text/latex": [
       "$\\displaystyle \\left[\\begin{matrix}7.0 & -8.0 & 1.0\\\\-8.0 & 16.0 & -8.0\\\\1.0 & -8.0 & 7.0\\end{matrix}\\right]$"
      ],
      "text/plain": [
       "Matrix([\n",
       "[ 7.0, -8.0,  1.0],\n",
       "[-8.0, 16.0, -8.0],\n",
       "[ 1.0, -8.0,  7.0]])"
      ]
     },
     "execution_count": 336,
     "metadata": {},
     "output_type": "execute_result"
    }
   ],
   "source": [
    "\n",
    "\n",
    "naAA = gauss_legendre(np.vectorize(lambda ξ:dphi_a(ξ)*dphi_a(ξ)),4)\n",
    "naAB = gauss_legendre(np.vectorize(lambda ξ:dphi_a(ξ)*dphi_b(ξ)),4)\n",
    "naAC = gauss_legendre(np.vectorize(lambda ξ:dphi_a(ξ)*dphi_c(ξ)),4)\n",
    "\n",
    "naBA = gauss_legendre(np.vectorize(lambda ξ:dphi_b(ξ)*dphi_a(ξ)),4)\n",
    "naBB = gauss_legendre(np.vectorize(lambda ξ:dphi_b(ξ)*dphi_b(ξ)),4)\n",
    "naBC = gauss_legendre(np.vectorize(lambda ξ:dphi_b(ξ)*dphi_c(ξ)),4)\n",
    "\n",
    "naCA = gauss_legendre(np.vectorize(lambda ξ:dphi_c(ξ)*dphi_a(ξ)),4)\n",
    "naCB = gauss_legendre(np.vectorize(lambda ξ:dphi_c(ξ)*dphi_b(ξ)),4)\n",
    "naCC = gauss_legendre(np.vectorize(lambda ξ:dphi_c(ξ)*dphi_c(ξ)),4)\n",
    "\n",
    "sym.Matrix([[naAA,naAB,naAC],[naBA,naBB,naBC],[naCA,naCB,naCC]])*(2/h)*(3*h)"
   ]
  },
  {
   "cell_type": "code",
   "execution_count": 339,
   "id": "36c12169",
   "metadata": {},
   "outputs": [
    {
     "data": {
      "text/latex": [
       "$\\displaystyle \\left[\\begin{matrix}-3 & 4 & -1\\\\-4 & 0 & 4\\\\1 & -4 & 3\\end{matrix}\\right]$"
      ],
      "text/plain": [
       "Matrix([\n",
       "[-3,  4, -1],\n",
       "[-4,  0,  4],\n",
       "[ 1, -4,  3]])"
      ]
     },
     "execution_count": 339,
     "metadata": {},
     "output_type": "execute_result"
    }
   ],
   "source": [
    "B*6"
   ]
  },
  {
   "cell_type": "code",
   "execution_count": 341,
   "id": "09c53f1d",
   "metadata": {},
   "outputs": [
    {
     "data": {
      "text/latex": [
       "$\\displaystyle \\left[\\begin{matrix}-3.0 & 4.0 & -1.0\\\\-4.0 & 0 & 4.0\\\\1.0 & -4.0 & 3.0\\end{matrix}\\right]$"
      ],
      "text/plain": [
       "Matrix([\n",
       "[-3.0,  4.0, -1.0],\n",
       "[-4.0,    0,  4.0],\n",
       "[ 1.0, -4.0,  3.0]])"
      ]
     },
     "execution_count": 341,
     "metadata": {},
     "output_type": "execute_result"
    }
   ],
   "source": [
    "\n",
    "\n",
    "nbAA = gauss_legendre(np.vectorize(lambda ξ:dphi_a(ξ)*phi_a(ξ)),4)\n",
    "nbAB = gauss_legendre(np.vectorize(lambda ξ:dphi_a(ξ)*phi_b(ξ)),4)\n",
    "nbAC = gauss_legendre(np.vectorize(lambda ξ:dphi_a(ξ)*phi_c(ξ)),4)\n",
    "\n",
    "nbBA = gauss_legendre(np.vectorize(lambda ξ:dphi_b(ξ)*phi_a(ξ)),4)\n",
    "nbBB = gauss_legendre(np.vectorize(lambda ξ:dphi_b(ξ)*phi_b(ξ)),4)\n",
    "nbBC = gauss_legendre(np.vectorize(lambda ξ:dphi_b(ξ)*phi_c(ξ)),4)\n",
    "\n",
    "nbCA = gauss_legendre(np.vectorize(lambda ξ:dphi_c(ξ)*phi_a(ξ)),4)\n",
    "nbCB = gauss_legendre(np.vectorize(lambda ξ:dphi_c(ξ)*phi_b(ξ)),4)\n",
    "nbCC = gauss_legendre(np.vectorize(lambda ξ:dphi_c(ξ)*phi_c(ξ)),4)\n",
    "\n",
    "sym.Matrix([[nbAA,nbAB,nbAC],[nbBA,nbBB,nbBC],[nbCA,nbCB,nbCC]]).T*6"
   ]
  },
  {
   "cell_type": "code",
   "execution_count": 33,
   "id": "ba560d31",
   "metadata": {},
   "outputs": [],
   "source": [
    "#sanity check\n",
    "def plot_elemento(X,k,q=False):\n",
    "    fig, ax = plt.subplots()\n",
    "    \n",
    "    if(q):\n",
    "        a = X[k-1]\n",
    "        b = X[k]\n",
    "        c = a/2+b/2\n",
    "        h = b-a\n",
    "\n",
    "        x = np.linspace(a,b,100)\n",
    "\n",
    "        ac1,ac2,ac3 = q_A(a,b,c)\n",
    "        bc1,bc2,bc3 = q_B(a,b,c)\n",
    "        cc1,cc2,cc3 = q_C(a,b,c)\n",
    "        phi_a = lambda x: ac1*x**2+ac2*x+ac3\n",
    "        phi_b = lambda x: bc1*x**2+bc2*x+bc3\n",
    "        phi_c = lambda x: cc1*x**2+cc2*x+cc3\n",
    "\n",
    "        ax.plot(x,phi_a(x))\n",
    "        ax.plot(x,phi_b(x))\n",
    "        ax.plot(x,phi_c(x))\n",
    "    else:\n",
    "        a = X[k-1]\n",
    "        b = X[k]\n",
    "        h = b-a\n",
    "\n",
    "        x = np.linspace(a,b,100)\n",
    "\n",
    "        phi_a = lambda x: (b-x)/h\n",
    "        phi_b = lambda x: (x-a)/h\n",
    "\n",
    "        ax.plot(x,phi_a(x))\n",
    "        ax.plot(x,phi_b(x))\n",
    "\n",
    "    \n",
    "    return fig,ax"
   ]
  },
  {
   "cell_type": "code",
   "execution_count": null,
   "id": "8c86886a",
   "metadata": {},
   "outputs": [],
   "source": [
    "def gauss_legendre(f,n):\n",
    "        x,w = roots_legendre(n)\n",
    "        return np.dot(f(x),w)"
   ]
  },
  {
   "cell_type": "code",
   "execution_count": 35,
   "id": "838a3c78",
   "metadata": {},
   "outputs": [],
   "source": [
    "X1 = np.linspace(0,1,100)\n",
    "X2 = np.linspace(0,1,100)\n",
    "X3 = np.linspace(0,1,100)\n",
    "#soluções analítica para testes\n",
    "s1 = lambda x: x-np.sinh(x)/np.sinh(1) # alfa=1, beta=0, gamma=1, f=x, u(0) = 0, u(1)=0\n",
    "s1 = s1(X1)\n",
    "s2 = lambda x: -x*(x-1)/2 # alfa=1, beta=0, gamma=0, f=1, u(0) = 0, u(1)=0\n",
    "s2 = s2(X2)\n",
    "s3 = lambda x: 1+0.7*x-x**2/2 # alfa=1, beta=0, gamma=0, f=1, u(0) = 1, u(1)=1.2\n",
    "s3 = s3(X3)"
   ]
  },
  {
   "cell_type": "code",
   "execution_count": 36,
   "id": "629aa821",
   "metadata": {},
   "outputs": [],
   "source": [
    "# alfa=1, beta=-2, gamma=-3, f=x**3*np.exp(5*x)*np.cos(3*x), u(0) = 0, u(1)=1\n",
    "\n",
    "import pandas\n",
    "\n",
    "df = pandas.read_csv('s4.csv',header=None)\n",
    "\n",
    "X4 = df[0].to_numpy()\n",
    "s4 = df[1].to_numpy()\n",
    "\n",
    "# alfa=1, beta=2, gamma=1, f=0, u(0) = 0, u(1)=1\n",
    "\n",
    "\n",
    "df = pandas.read_csv('s5.csv',header=None)\n",
    "\n",
    "X5 = df[0].to_numpy()\n",
    "s5 = df[1].to_numpy()\n",
    "\n",
    "# alfa=1, beta=0, gamma=1, f=np.cos(15*x), u(0) = 1, u(1)=1\n",
    "\n",
    "\n",
    "df = pandas.read_csv('s6.csv',header=None)\n",
    "\n",
    "X6 = df[0].to_numpy()\n",
    "s6 = df[1].to_numpy()\n",
    "\n",
    "# alfa=1, beta=100, gamma=1, f=np.cos(15*x), u(0) = 0, u(1)=0\n",
    "\n",
    "\n",
    "df = pandas.read_csv('s7.csv',header=None)\n",
    "\n",
    "X7 = df[0].to_numpy()\n",
    "s7 = df[1].to_numpy()\n",
    "\n",
    "# alfa=1, beta=0, gamma=1, f=np.cos(15*x), u(0) = 0, u(1)=0\n",
    "\n",
    "\n",
    "df = pandas.read_csv('s8.csv',header=None)\n",
    "\n",
    "X8 = df[0].to_numpy()\n",
    "s8 = df[1].to_numpy()\n",
    "\n",
    "# alfa=1, beta=1, gamma=0, f=np.cos(7*x), u(0) = 0, u(1)=0\n",
    "\n",
    "\n",
    "df = pandas.read_csv('s9.csv',header=None)\n",
    "\n",
    "X9 = df[0].to_numpy()\n",
    "s9 = df[1].to_numpy()"
   ]
  },
  {
   "cell_type": "code",
   "execution_count": 37,
   "id": "3b94d073",
   "metadata": {},
   "outputs": [],
   "source": [
    "def build_solution(X,u,LM,E):\n",
    "    Xs = np.array([])\n",
    "    S = np.array([])\n",
    "    for i in E:\n",
    "        pontos = LM[i-1]-1\n",
    "\n",
    "        if(pontos[-1]==-2): # o elemento é linear\n",
    "            S = np.append(S,[u[pontos[0]],u[pontos[1]]])\n",
    "            Xs = np.append(Xs,[X[pontos[0]],X[pontos[1]]])\n",
    "        else: # o elemento é quadrático\n",
    "            ac1,ac2,ac3 = q_A(X[pontos[0]],X[pontos[1]],X[pontos[2]])\n",
    "            bc1,bc2,bc3 = q_B(X[pontos[0]],X[pontos[1]],X[pontos[2]])\n",
    "            cc1,cc2,cc3 = q_C(X[pontos[0]],X[pontos[1]],X[pontos[2]])\n",
    "            phi_a = lambda x: ac1*x**2+ac2*x+ac3\n",
    "            phi_b = lambda x: bc1*x**2+bc2*x+bc3\n",
    "            phi_c = lambda x: cc1*x**2+cc2*x+cc3                              \n",
    "            Xe = np.linspace(X[pontos[0]],X[pontos[2]],100)\n",
    "            S = np.append(S,u[pontos[0]]*phi_a(Xe)+u[pontos[1]]*phi_b(Xe)+u[pontos[2]]*phi_c(Xe))\n",
    "            Xs = np.append(Xs,Xe)\n",
    "\n",
    "    return Xs,S"
   ]
  },
  {
   "cell_type": "code",
   "execution_count": 537,
   "id": "3fa18b21",
   "metadata": {},
   "outputs": [],
   "source": [
    "def fem_direto(X,alfa,beta,gamma,f,ui,uf,Q=[]):\n",
    "    '''\n",
    "    Resolve por elementos finitos a equação: -alfa u'' + beta u' + gamma u = f\n",
    "    \n",
    "    Parâmetros:\n",
    "    X: a discretização do espaço. Não precisa ser homogêneo\n",
    "    q: lista dos elementos que devem ser quadráticos\n",
    "    alfa: valor que multiplica u''\n",
    "    beta: valor que multiplica u'\n",
    "    gamma: valor que multiplica u\n",
    "    f: função de carga.\n",
    "    ui: Condição de dirichlet em X[0]. \n",
    "    uf: Condição de dirichlet em X[-1].\n",
    "    \n",
    "    Retorno:\n",
    "    K: Matriz de rigidez\n",
    "    F: Vetor de Carga\n",
    "    u: Solução do problema\n",
    "    '''\n",
    "    \n",
    "    \n",
    "    def A_e(h,q):\n",
    "        '''q: True se o elemento é quadrático'''\n",
    "\n",
    "        if(q):\n",
    "             return np.array([[7,-8,1],[-8,16,-8],[1,-8,7]])/(3*h)\n",
    "        return np.array([[1,-1],[-1,1]])/h\n",
    "\n",
    "    def B_e(q):\n",
    "        '''q: True se o elemento é quadrático'''\n",
    "\n",
    "        if q:\n",
    "            return np.array([[-3, 4, -1],[-4, 0, 4],[1, -4, 3]])/6\n",
    "        return np.array([[-1,1],[-1,1]])/2\n",
    "\n",
    "    def C_e(h,q):\n",
    "        '''q: True se o elemento é quadrático'''\n",
    "\n",
    "        if q:\n",
    "            return np.array([[4, 2, -1],[2, 16, 2],[-1, 2, 4]])*h/30\n",
    "\n",
    "        return np.array([[2,1],[1,2]])*h/6\n",
    "    \n",
    "    \n",
    "    Q = np.array(Q)\n",
    "    n = len(X) # number of points\n",
    "    E = np.array(range(1,n)) # array of elements\n",
    "    \n",
    "    #Construo a matrix de checagem de elementos quadráticos. Uso essa matriz para saber se um dado elemento é quadrático.\n",
    "    CheckQuadraticMatrix = E==-1\n",
    "    aux = 0; # sempre que construimos a coluna para um elemento quadrático, incrementamos aux. Esse número representa\n",
    "    # o número de nódulos intermediários adicionados no LM. \n",
    "    for value in Q:\n",
    "        X = np.insert(X,value+aux,X[value+aux]/2+X[value+aux-1]/2)\n",
    "        aux += 1\n",
    "        CheckQuadraticMatrix = np.logical_or(CheckQuadraticMatrix,E==value)\n",
    "        \n",
    "    # construo a matriz local\n",
    "    LM = np.array([])\n",
    "    aux = 0; # sempre que construimos a coluna para um elemento quadrático, incrementamos aux. Esse número representa\n",
    "    # o número de nódulos intermediários adicionados no LM. É usado nos elementos seguintes para que sejam\n",
    "    # conectados os pontos certos.\n",
    "    for i in E:\n",
    "        if(CheckQuadraticMatrix[i-1]):\n",
    "            LM = np.append(LM,np.array([aux+i,aux+i+1,aux+i+2]))\n",
    "            aux += 1\n",
    "        else:\n",
    "            LM = np.append(LM,np.array([aux+i,aux+i+1,-1]))\n",
    "\n",
    "    LM = LM.reshape(len(E),3).astype(int)\n",
    "        \n",
    "    # construo a matriz de rigidez e vetor de carga\n",
    "    n = len(X) # repito novament pois X pode ter aumentado\n",
    "    K = np.zeros(n*n).reshape(n,n)\n",
    "    F = np.zeros(n)\n",
    "\n",
    "    for i in E: #sem os elementos das pontas pois esses são colocados a mão\n",
    "        pontos = LM[i-1]-1\n",
    "\n",
    "        q = CheckQuadraticMatrix[i-1] # True se o elemento i é quadrático\n",
    "\n",
    "        if(q):\n",
    "            h = X[pontos[2]]-X[pontos[0]]\n",
    "        else:\n",
    "            h = X[pontos[1]]-X[pontos[0]]\n",
    "\n",
    "\n",
    "        Ae = A_e(h,q)\n",
    "        Be = B_e(q)\n",
    "        Ce = C_e(h,q)\n",
    "\n",
    "        if(q):\n",
    "            Fe = Ce@f(np.array([X[pontos[0]],X[pontos[1]],X[pontos[2]]]))\n",
    "        else:\n",
    "            Fe = Ce@f(np.array([X[pontos[0]],X[pontos[1]]]))\n",
    "\n",
    "\n",
    "\n",
    "        K[pontos[0],pontos[0]] += alfa*Ae[0,0]\n",
    "        K[pontos[0],pontos[1]] += alfa*Ae[0,1]\n",
    "        K[pontos[1],pontos[0]] += alfa*Ae[1,0]\n",
    "        K[pontos[1],pontos[1]] += alfa*Ae[1,1]\n",
    "\n",
    "        K[pontos[0],pontos[0]] += beta*Be[0,0]\n",
    "        K[pontos[0],pontos[1]] += beta*Be[0,1]\n",
    "        K[pontos[1],pontos[0]] += beta*Be[1,0]\n",
    "        K[pontos[1],pontos[1]] += beta*Be[1,1]\n",
    "\n",
    "        K[pontos[0],pontos[0]] += gamma*Ce[0,0]\n",
    "        K[pontos[0],pontos[1]] += gamma*Ce[0,1]\n",
    "        K[pontos[1],pontos[0]] += gamma*Ce[1,0]\n",
    "        K[pontos[1],pontos[1]] += gamma*Ce[1,1]\n",
    "\n",
    "        F[pontos[0]] += Fe[0]\n",
    "        F[pontos[1]] += Fe[1]\n",
    "\n",
    "        if(q):  \n",
    "            K[pontos[0],pontos[2]] += alfa*Ae[0,2]\n",
    "            K[pontos[1],pontos[2]] += alfa*Ae[1,2]\n",
    "\n",
    "            K[pontos[2],pontos[0]] += alfa*Ae[2,0]\n",
    "            K[pontos[2],pontos[1]] += alfa*Ae[2,1]\n",
    "            K[pontos[2],pontos[2]] += alfa*Ae[2,2]\n",
    "\n",
    "            K[pontos[0],pontos[2]] += beta*Be[0,2]\n",
    "            K[pontos[1],pontos[2]] += beta*Be[1,2]\n",
    "\n",
    "            K[pontos[2],pontos[0]] += beta*Be[2,0]\n",
    "            K[pontos[2],pontos[1]] += beta*Be[2,1]\n",
    "            K[pontos[2],pontos[2]] += beta*Be[2,2]\n",
    "\n",
    "            K[pontos[0],pontos[2]] += gamma*Ce[0,1]\n",
    "            K[pontos[1],pontos[2]] += gamma*Ce[1,2]\n",
    "\n",
    "            K[pontos[2],pontos[0]] += gamma*Ce[2,0]\n",
    "            K[pontos[2],pontos[1]] += gamma*Ce[2,1]\n",
    "            K[pontos[2],pontos[2]] += gamma*Ce[2,2]\n",
    "\n",
    "            F[pontos[2]] += Fe[2]\n",
    "\n",
    "    # garante que os extremos respeitem as condições de contorno\n",
    "    K[0,0] = 1\n",
    "    F[0] = ui\n",
    "    K[-1,-1] = 1\n",
    "    F[-1] = uf\n",
    "    \n",
    "    F[1] += -ui*K[0,1]\n",
    "    K[0,1] = K[1,0] = 0\n",
    "    \n",
    "    if(CheckQuadraticMatrix[0]):\n",
    "        F[2] += -ui*K[0,2]\n",
    "        K[2,0] = K[0,2]  = 0\n",
    "    \n",
    "    F[-2] += -uf*K[-2,-1]\n",
    "    K[-2,-1]=K[-1,-2]=0\n",
    "        \n",
    "    if(CheckQuadraticMatrix[-1]):\n",
    "        F[-3] += -uf*K[-3,-1]\n",
    "        K[-1,-3]=K[-3,-1]=0\n",
    "\n",
    "    u = solve(K,F)    \n",
    "\n",
    "    return K,F,E,LM,X,u"
   ]
  },
  {
   "cell_type": "code",
   "execution_count": 531,
   "id": "4e0aadb8",
   "metadata": {},
   "outputs": [],
   "source": [
    "def fem_gauss(X,alfa,beta,gamma,f,ui,uf,n=4,Q=[]):\n",
    "    '''\n",
    "    Resolve por elementos finitos a equação: -alfa u'' + beta u' + gamma u = f\n",
    "    \n",
    "    Parâmetros:\n",
    "    X: a discretização do espaço. Não precisa ser homogêneo\n",
    "    Q: lista dos elementos que devem ser quadráticos\n",
    "    alfa: valor que multiplica u''\n",
    "    beta: valor que multiplica u'\n",
    "    gamma: valor que multiplica u\n",
    "    f: função de carga.\n",
    "    ui: Condição de dirichlet em X[0]. \n",
    "    uf: Condição de dirichlet em X[-1].\n",
    "    n: ordem da integração por Gauss-Legendre\n",
    "    \n",
    "    Retorno:\n",
    "    K: Matriz de rigidez\n",
    "    F: Vetor de Carga\n",
    "    u: Solução do problema\n",
    "    '''\n",
    "    \n",
    "    def gauss_legendre(f,n):\n",
    "        x,w = roots_legendre(n)\n",
    "        return np.dot(f(x),w)\n",
    "    \n",
    "    def quadratic_base(a,b,c):\n",
    "        ac1,ac2,ac3 = q_A(a,b,c)\n",
    "        bc1,bc2,bc3 = q_B(a,b,c)\n",
    "        cc1,cc2,cc3 = q_C(a,b,c)\n",
    "        phi_a = np.vectorize(lambda x: ac1*x**2+ac2*x+ac3)\n",
    "        phi_b = np.vectorize(lambda x: bc1*x**2+bc2*x+bc3)\n",
    "        phi_c = np.vectorize(lambda x: cc1*x**2+cc2*x+cc3)\n",
    "        \n",
    "        return phi_a, phi_b, phi_c\n",
    "    \n",
    "    def dquadratic_base(a,b,c):\n",
    "            ac1,ac2,ac3 = q_A(a,b,c)\n",
    "            bc1,bc2,bc3 = q_B(a,b,c)\n",
    "            cc1,cc2,cc3 = q_C(a,b,c)\n",
    "            dphi_a = np.vectorize(lambda x: 2*ac1*x+ac2)\n",
    "            dphi_b = np.vectorize(lambda x: 2*bc1*x+bc2)\n",
    "            dphi_c = np.vectorize(lambda x: 2*cc1*x+cc2)\n",
    "\n",
    "            return dphi_a, dphi_b, dphi_c\n",
    "\n",
    "    def linear_base(a,b):\n",
    "        h = b-a\n",
    "\n",
    "        phi_a = np.vectorize(lambda x: (b-x)/h)\n",
    "        phi_b = np.vectorize(lambda x: (x-a)/h)\n",
    "\n",
    "        return phi_a,phi_b\n",
    "\n",
    "    def dlinear_base(a,b):\n",
    "        h = b-a\n",
    "\n",
    "        dphi_a = np.vectorize(lambda x: -1/h)\n",
    "        dphi_b = np.vectorize(lambda x: 1/h)\n",
    "\n",
    "        return dphi_a,dphi_b\n",
    "    \n",
    "    def map_to_x(ξ,a,b):\n",
    "        h=b-a\n",
    "        return h/2*(ξ+1)+a\n",
    "    \n",
    "\n",
    "    \n",
    "    # bases in ξ space\n",
    "    lphi_a, lphi_b = linear_base(-1,1)  # linear\n",
    "    dlphi_a, dlphi_b = dlinear_base(-1,1) # linear, derivates\n",
    "    qphi_a, qphi_b, qphi_c = quadratic_base(-1,0,1) # quadratic\n",
    "    dqphi_a, dqphi_b, dqphi_c = dquadratic_base(-1,0,1) # qudratic, derivates\n",
    "    \n",
    "    # Matrizes de rigidez dos elementos lineares\n",
    "\n",
    "    cAA = gauss_legendre(np.vectorize(lambda ξ:lphi_a(ξ)*lphi_a(ξ)),2)\n",
    "    cAB = gauss_legendre(np.vectorize(lambda ξ:lphi_a(ξ)*lphi_b(ξ)),2)\n",
    "    cBA = gauss_legendre(np.vectorize(lambda ξ:lphi_b(ξ)*lphi_a(ξ)),2)\n",
    "    cBB = gauss_legendre(np.vectorize(lambda ξ:lphi_b(ξ)*lphi_b(ξ)),2)\n",
    "    lCe = np.array([[cAA,cAB],[cBA,cBB]]) # basta multiplicar por h_e/2 quando for usar\n",
    "    \n",
    "    aAA = gauss_legendre(np.vectorize(lambda ξ:dlphi_a(ξ)*dlphi_a(ξ)),2)\n",
    "    aAB = gauss_legendre(np.vectorize(lambda ξ:dlphi_a(ξ)*dlphi_b(ξ)),2)\n",
    "    aBA = gauss_legendre(np.vectorize(lambda ξ:dlphi_b(ξ)*dlphi_a(ξ)),2)\n",
    "    aBB = gauss_legendre(np.vectorize(lambda ξ:dlphi_b(ξ)*dlphi_b(ξ)),2)\n",
    "    lAe = np.array([[aAA,aAB],[aBA,aBB]]) # basta dividir por h_e/2 quando for usar\n",
    "    \n",
    "    bAA = gauss_legendre(np.vectorize(lambda ξ:dlphi_a(ξ)*lphi_a(ξ)),2)\n",
    "    bAB = gauss_legendre(np.vectorize(lambda ξ:dlphi_a(ξ)*lphi_b(ξ)),2)\n",
    "    bBA = gauss_legendre(np.vectorize(lambda ξ:dlphi_b(ξ)*lphi_a(ξ)),2)\n",
    "    bBB = gauss_legendre(np.vectorize(lambda ξ:dlphi_b(ξ)*lphi_b(ξ)),2)\n",
    "    lBe = np.array([[bAA,bAB],[bBA,bBB]]).T # pronto pro uso\n",
    "    \n",
    "    # Matrizes de rigidez dos elementos quadráticos\n",
    "    \n",
    "    ncAA = gauss_legendre(np.vectorize(lambda ξ:qphi_a(ξ)*qphi_a(ξ)),4)\n",
    "    ncAB = gauss_legendre(np.vectorize(lambda ξ:qphi_a(ξ)*qphi_b(ξ)),4)\n",
    "    ncAC = gauss_legendre(np.vectorize(lambda ξ:qphi_a(ξ)*qphi_c(ξ)),4)\n",
    "\n",
    "    ncBA = gauss_legendre(np.vectorize(lambda ξ:qphi_b(ξ)*qphi_a(ξ)),4)\n",
    "    ncBB = gauss_legendre(np.vectorize(lambda ξ:qphi_b(ξ)*qphi_b(ξ)),4)\n",
    "    ncBC = gauss_legendre(np.vectorize(lambda ξ:qphi_b(ξ)*qphi_c(ξ)),4)\n",
    "\n",
    "    ncCA = gauss_legendre(np.vectorize(lambda ξ:qphi_c(ξ)*qphi_a(ξ)),4)\n",
    "    ncCB = gauss_legendre(np.vectorize(lambda ξ:qphi_c(ξ)*qphi_b(ξ)),4)\n",
    "    ncCC = gauss_legendre(np.vectorize(lambda ξ:qphi_c(ξ)*qphi_c(ξ)),4)\n",
    "\n",
    "    qCe = np.array([[ncAA,ncAB,ncAC],[ncBA,ncBB,ncBC],[ncCA,ncCB,ncCC]]) # multiplicar por h_e/2\n",
    "\n",
    "    naAA = gauss_legendre(np.vectorize(lambda ξ:dqphi_a(ξ)*dqphi_a(ξ)),4)\n",
    "    naAB = gauss_legendre(np.vectorize(lambda ξ:dqphi_a(ξ)*dqphi_b(ξ)),4)\n",
    "    naAC = gauss_legendre(np.vectorize(lambda ξ:dqphi_a(ξ)*dqphi_c(ξ)),4)\n",
    "\n",
    "    naBA = gauss_legendre(np.vectorize(lambda ξ:dqphi_b(ξ)*dqphi_a(ξ)),4)\n",
    "    naBB = gauss_legendre(np.vectorize(lambda ξ:dqphi_b(ξ)*dqphi_b(ξ)),4)\n",
    "    naBC = gauss_legendre(np.vectorize(lambda ξ:dqphi_b(ξ)*dqphi_c(ξ)),4)\n",
    "\n",
    "    naCA = gauss_legendre(np.vectorize(lambda ξ:dqphi_c(ξ)*dqphi_a(ξ)),4)\n",
    "    naCB = gauss_legendre(np.vectorize(lambda ξ:dqphi_c(ξ)*dqphi_b(ξ)),4)\n",
    "    naCC = gauss_legendre(np.vectorize(lambda ξ:dqphi_c(ξ)*dqphi_c(ξ)),4)\n",
    "\n",
    "    qAe = np.array([[naAA,naAB,naAC],[naBA,naBB,naBC],[naCA,naCB,naCC]]) # dividir por h_e/2\n",
    "\n",
    "    nbAA = gauss_legendre(np.vectorize(lambda ξ:dqphi_a(ξ)*phi_a(ξ)),4)\n",
    "    nbAB = gauss_legendre(np.vectorize(lambda ξ:dqphi_a(ξ)*phi_b(ξ)),4)\n",
    "    nbAC = gauss_legendre(np.vectorize(lambda ξ:dqphi_a(ξ)*phi_c(ξ)),4)\n",
    "\n",
    "    nbBA = gauss_legendre(np.vectorize(lambda ξ:dqphi_b(ξ)*phi_a(ξ)),4)\n",
    "    nbBB = gauss_legendre(np.vectorize(lambda ξ:dqphi_b(ξ)*phi_b(ξ)),4)\n",
    "    nbBC = gauss_legendre(np.vectorize(lambda ξ:dqphi_b(ξ)*phi_c(ξ)),4)\n",
    "\n",
    "    nbCA = gauss_legendre(np.vectorize(lambda ξ:dqphi_c(ξ)*phi_a(ξ)),4)\n",
    "    nbCB = gauss_legendre(np.vectorize(lambda ξ:dqphi_c(ξ)*phi_b(ξ)),4)\n",
    "    nbCC = gauss_legendre(np.vectorize(lambda ξ:dqphi_c(ξ)*phi_c(ξ)),4)\n",
    "\n",
    "    qBe = np.array([[nbAA,nbAB,nbAC],[nbBA,nbBB,nbBC],[nbCA,nbCB,nbCC]]).T # pronto pro uso\n",
    "    \n",
    "    \n",
    "    Q = np.array(Q)\n",
    "    n = len(X) # number of points\n",
    "    E = np.array(range(1,n)) # array of elements\n",
    "    \n",
    "    #Construo a matrix de checagem de elementos quadráticos. Uso essa matriz para saber se um dado elemento é quadrático.\n",
    "    CheckQuadraticMatrix = E==-1\n",
    "    aux = 0; # sempre que construimos a coluna para um elemento quadrático, incrementamos aux. Esse número representa\n",
    "    # o número de nódulos intermediários adicionados no LM. \n",
    "    for value in Q:\n",
    "        X = np.insert(X,value+aux,X[value+aux]/2+X[value+aux-1]/2)\n",
    "        aux += 1\n",
    "        CheckQuadraticMatrix = np.logical_or(CheckQuadraticMatrix,E==value)\n",
    "        \n",
    "    # construo a matriz local\n",
    "    LM = np.array([])\n",
    "    aux = 0; # sempre que construimos a coluna para um elemento quadrático, incrementamos aux. Esse número representa\n",
    "    # o número de nódulos intermediários adicionados no LM. É usado nos elementos seguintes para que sejam\n",
    "    # conectados os pontos certos.\n",
    "    for i in E:\n",
    "        if(CheckQuadraticMatrix[i-1]):\n",
    "            LM = np.append(LM,np.array([aux+i,aux+i+1,aux+i+2]))\n",
    "            aux += 1\n",
    "        else:\n",
    "            LM = np.append(LM,np.array([aux+i,aux+i+1,-1]))\n",
    "\n",
    "    LM = LM.reshape(len(E),3).astype(int)\n",
    "        \n",
    "    # construo a matriz de rigidez e vetor de carga\n",
    "    n = len(X) # repito novament pois X pode ter aumentado\n",
    "    K = np.zeros(n*n).reshape(n,n)\n",
    "    F = np.zeros(n)\n",
    "\n",
    "    for i in E: #sem os elementos das pontas pois esses são colocados a mão\n",
    "        pontos = LM[i-1]-1\n",
    "\n",
    "        q = CheckQuadraticMatrix[i-1] # True se o elemento i é quadrático\n",
    "        \n",
    "        pi = X[pontos[0]]\n",
    "        pf = X[pontos[1]]\n",
    "\n",
    "        if(q):\n",
    "            pf = X[pontos[2]]\n",
    "            h = X[pontos[2]]-X[pontos[0]]\n",
    "        else:\n",
    "            h = X[pontos[1]]-X[pontos[0]]\n",
    "            \n",
    "        # mapeia a função de carga para o espaço ξ\n",
    "        fξ = np.vectorize(lambda ξ: f(map_to_x(ξ,pi,pf)))\n",
    "\n",
    "        Ae = lAe*2/h\n",
    "        Be = lBe\n",
    "        Ce = lCe*h/2\n",
    "        \n",
    "\n",
    "        if(q):\n",
    "            Ae = qAe*2/h\n",
    "            Be = qBe\n",
    "            Ce = qCe*h/2\n",
    "\n",
    "            fA = gauss_legendre(np.vectorize(lambda ξ:fξ(ξ)*qphi_a(ξ)),n)\n",
    "            fB = gauss_legendre(np.vectorize(lambda ξ:fξ(ξ)*qphi_b(ξ)),n)\n",
    "            fC = gauss_legendre(np.vectorize(lambda ξ:fξ(ξ)*qphi_c(ξ)),n)\n",
    "            Fe = np.array([fA,fB,fC])*h/2\n",
    "        else:\n",
    "            fA = gauss_legendre(np.vectorize(lambda ξ:fξ(ξ)*lphi_a(ξ)),n)\n",
    "            fB = gauss_legendre(np.vectorize(lambda ξ:fξ(ξ)*lphi_b(ξ)),n)\n",
    "            Fe = np.array([fA,fB])*h/2\n",
    "           \n",
    "\n",
    "        K[pontos[0],pontos[0]] += alfa*Ae[0,0]\n",
    "        K[pontos[0],pontos[1]] += alfa*Ae[0,1]\n",
    "        K[pontos[1],pontos[0]] += alfa*Ae[1,0]\n",
    "        K[pontos[1],pontos[1]] += alfa*Ae[1,1]\n",
    "\n",
    "        K[pontos[0],pontos[0]] += beta*Be[0,0]\n",
    "        K[pontos[0],pontos[1]] += beta*Be[0,1]\n",
    "        K[pontos[1],pontos[0]] += beta*Be[1,0]\n",
    "        K[pontos[1],pontos[1]] += beta*Be[1,1]\n",
    "\n",
    "        K[pontos[0],pontos[0]] += gamma*Ce[0,0]\n",
    "        K[pontos[0],pontos[1]] += gamma*Ce[0,1]\n",
    "        K[pontos[1],pontos[0]] += gamma*Ce[1,0]\n",
    "        K[pontos[1],pontos[1]] += gamma*Ce[1,1]\n",
    "\n",
    "        F[pontos[0]] += Fe[0]\n",
    "        F[pontos[1]] += Fe[1]\n",
    "\n",
    "        if(q):\n",
    "            K[pontos[0],pontos[2]] += alfa*Ae[0,2]\n",
    "            K[pontos[1],pontos[2]] += alfa*Ae[1,2]\n",
    "\n",
    "            K[pontos[2],pontos[0]] += alfa*Ae[2,0]\n",
    "            K[pontos[2],pontos[1]] += alfa*Ae[2,1]\n",
    "            K[pontos[2],pontos[2]] += alfa*Ae[2,2]\n",
    "\n",
    "            K[pontos[0],pontos[2]] += beta*Be[0,2]\n",
    "            K[pontos[1],pontos[2]] += beta*Be[1,2]\n",
    "\n",
    "            K[pontos[2],pontos[0]] += beta*Be[2,0]\n",
    "            K[pontos[2],pontos[1]] += beta*Be[2,1]\n",
    "            K[pontos[2],pontos[2]] += beta*Be[2,2]\n",
    "\n",
    "            K[pontos[0],pontos[2]] += gamma*Ce[0,1]\n",
    "            K[pontos[1],pontos[2]] += gamma*Ce[1,2]\n",
    "\n",
    "            K[pontos[2],pontos[0]] += gamma*Ce[2,0]\n",
    "            K[pontos[2],pontos[1]] += gamma*Ce[2,1]\n",
    "            K[pontos[2],pontos[2]] += gamma*Ce[2,2]\n",
    "\n",
    "            F[pontos[2]] += Fe[2]\n",
    "\n",
    "    # garante que os extremos respeitem as condições de contorno\n",
    "    K[0,0] = 1\n",
    "    F[0] = ui\n",
    "    K[-1,-1] = 1\n",
    "    F[-1] = uf\n",
    "    \n",
    "    F[1] += -ui*K[0,1]\n",
    "    K[0,1] = K[1,0] = 0\n",
    "    \n",
    "    if(CheckQuadraticMatrix[0]):\n",
    "        F[2] += -ui*K[0,2]\n",
    "        K[2,0] = K[0,2]  = 0\n",
    "    \n",
    "    F[-2] += -uf*K[-2,-1]\n",
    "    K[-2,-1]=K[-1,-2]=0\n",
    "        \n",
    "    if(CheckQuadraticMatrix[-1]):\n",
    "        F[-3] += -uf*K[-3,-1]\n",
    "        K[-1,-3]=K[-3,-1]=0\n",
    "\n",
    "    u = solve(K,F)    \n",
    "\n",
    "    return K,F,E,LM,lAe,lBe,lCe,qAe,qBe,qCe,X,u"
   ]
  },
  {
   "cell_type": "code",
   "execution_count": 532,
   "id": "bc59c6ad",
   "metadata": {
    "tags": []
   },
   "outputs": [
    {
     "data": {
      "text/plain": [
       "'\\nSoluções analíticas para testes\\n\\ns1 # alfa=1, beta=0, gamma=1, f=x, u(0) = 0, u(1)=0\\ns2 # alfa=1, beta=0, gamma=0, f=1, u(0) = 0, u(1)=0\\ns3 # alfa=1, beta=0, gamma=0, f=1, u(0) = 1, u(1)=1.2\\n\\ns4 # alfa=1, beta=-2, gamma=-3, f=x**3*np.exp(5*x)*np.cos(3*x), u(0) = 0, u(1)=1\\n\\ns5 # alfa=1, beta=2, gamma=1, f=0, u(0) = 0, u(1)=1\\ns6 # alfa=1, beta=0, gamma=1, f=np.cos(15*x), u(0) = 1, u(1)=1\\ns7 # alfa=1, beta=100, gamma=1, f=np.cos(15*x), u(0) = 0, u(1)=0\\n\\ns8 # alfa=1, beta=0, gamma=1, f=np.cos(15*x), u(0) = 0, u(1)=0\\n\\ns9 # alfa=1, beta=1, gamma=0, f=np.cos(7*x), u(0) = 0, u(1)=0\\n\\n'"
      ]
     },
     "execution_count": 532,
     "metadata": {},
     "output_type": "execute_result"
    }
   ],
   "source": [
    "'''\n",
    "Soluções analíticas para testes\n",
    "\n",
    "s1 # alfa=1, beta=0, gamma=1, f=x, u(0) = 0, u(1)=0\n",
    "s2 # alfa=1, beta=0, gamma=0, f=1, u(0) = 0, u(1)=0\n",
    "s3 # alfa=1, beta=0, gamma=0, f=1, u(0) = 1, u(1)=1.2\n",
    "\n",
    "s4 # alfa=1, beta=-2, gamma=-3, f=x**3*np.exp(5*x)*np.cos(3*x), u(0) = 0, u(1)=1\n",
    "\n",
    "s5 # alfa=1, beta=2, gamma=1, f=0, u(0) = 0, u(1)=1\n",
    "s6 # alfa=1, beta=0, gamma=1, f=np.cos(15*x), u(0) = 1, u(1)=1\n",
    "s7 # alfa=1, beta=100, gamma=1, f=np.cos(15*x), u(0) = 0, u(1)=0\n",
    "\n",
    "s8 # alfa=1, beta=0, gamma=1, f=np.cos(15*x), u(0) = 0, u(1)=0\n",
    "\n",
    "s9 # alfa=1, beta=1, gamma=0, f=np.cos(7*x), u(0) = 0, u(1)=0\n",
    "\n",
    "'''"
   ]
  },
  {
   "cell_type": "code",
   "execution_count": 579,
   "id": "ead56567",
   "metadata": {},
   "outputs": [],
   "source": [
    "X = np.linspace(0,1,17)\n",
    "alfa = 1\n",
    "beta = 0\n",
    "gamma = 1\n",
    "f = np.vectorize(lambda x: np.cos(15*x))\n",
    "ui = 0\n",
    "uf = 0\n",
    "q = []#range(1,17)#[3,4]\n",
    "#Kd,Fd,_,_,X,u = fem_direto(X,alfa,beta,gamma,f,ui,uf,Q=q)\n",
    "K,F,E,LM,lAe,lBe,lCe,qAe,qBe,qCe,X,u = fem_gauss(X,alfa,beta,gamma,f,ui,uf,n=10,Q=q)\n",
    "Xs,S = build_solution(X,u,LM,E)"
   ]
  },
  {
   "cell_type": "code",
   "execution_count": 580,
   "id": "3aedc34d",
   "metadata": {
    "tags": []
   },
   "outputs": [
    {
     "data": {
      "text/plain": [
       "[<matplotlib.lines.Line2D at 0x1a69ce599a0>]"
      ]
     },
     "execution_count": 580,
     "metadata": {},
     "output_type": "execute_result"
    },
    {
     "data": {
      "image/png": "[encoded data removed]",
      "text/plain": [
       "<Figure size 432x288 with 1 Axes>"
      ]
     },
     "metadata": {
      "needs_background": "light"
     },
     "output_type": "display_data"
    }
   ],
   "source": [
    "Y = np.linspace(0,1,100)\n",
    "plt.plot(Xs,S)\n",
    "plt.plot(X8,s8)"
   ]
  },
  {
   "cell_type": "code",
   "execution_count": null,
   "id": "38802c38",
   "metadata": {},
   "outputs": [],
   "source": []
  },
  {
   "cell_type": "code",
   "execution_count": null,
   "id": "ee1b4f77",
   "metadata": {},
   "outputs": [],
   "source": []
  }
 ],
 "metadata": {
  "kernelspec": {
   "display_name": "Python 3 (ipykernel)",
   "language": "python",
   "name": "python3"
  },
  "language_info": {
   "codemirror_mode": {
    "name": "ipython",
    "version": 3
   },
   "file_extension": ".py",
   "mimetype": "text/x-python",
   "name": "python",
   "nbconvert_exporter": "python",
   "pygments_lexer": "ipython3",
   "version": "3.9.1"
  }
 },
 "nbformat": 4,
 "nbformat_minor": 5
}
